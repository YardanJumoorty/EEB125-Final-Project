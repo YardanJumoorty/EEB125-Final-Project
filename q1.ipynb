{
 "cells": [
  {
   "cell_type": "code",
   "execution_count": 1,
   "id": "a93e8faa-2849-44c8-8317-5f2275c213c6",
   "metadata": {},
   "outputs": [],
   "source": [
    "import pandas as pd"
   ]
  },
  {
   "cell_type": "code",
   "execution_count": 4,
   "id": "bb517369-f373-4211-8450-85531cd9d46c",
   "metadata": {},
   "outputs": [],
   "source": []
  },
  {
   "cell_type": "code",
   "execution_count": 50,
   "id": "16fe8a99-50e1-432c-9bb1-e35d024254b8",
   "metadata": {},
   "outputs": [],
   "source": [
    "#Find scientifc names in amniote file\n",
    "amniote_file = pd.read_csv(\"amniote.csv\")\n",
    "amniote_scientific_name = amniote_file[\"genus\"]+\" \"+amniote_file[\"species\"]\n",
    "amniote_file[\"scientific name\"] = amniote_scientific_name\n"
   ]
  },
  {
   "cell_type": "code",
   "execution_count": 51,
   "id": "f086a6d2-0ee5-4f60-97d6-19168bee5a76",
   "metadata": {},
   "outputs": [],
   "source": [
    "#Find scientific name in IUCN file\n",
    "IUCN = pd.read_csv(\"IUCN.csv\")\n",
    "iucn_scientific_name = IUCN[\"scientificName\"]\n",
    "IUCN[\"redvalues\"]=1"
   ]
  },
  {
   "cell_type": "code",
   "execution_count": 62,
   "id": "4e6a32a2-aacb-4d11-81ef-6f4e8c0b8d84",
   "metadata": {},
   "outputs": [],
   "source": [
    "#add values for extinction level\n",
    "IUCN.loc[IUCN[\"redlistCategory\"]==\"Least Concern\", \"redvalues\"]= 0\n",
    "IUCN.loc[IUCN[\"redlistCategory\"]==\"Near Threatened\", \"redvalues\"]=1\n",
    "IUCN.loc[IUCN[\"redlistCategory\"]==\"Vulnerable\", \"redvalues\"]=2\n",
    "IUCN.loc[IUCN[\"redlistCategory\"]==\"Endangered\", \"redvalues\"]=3\n",
    "IUCN.loc[IUCN[\"redlistCategory\"]==\"Critically Endangered\", \"redvalues\"]=4\n",
    "IUCN.loc[IUCN[\"redlistCategory\"]==\"Extinct in the Wild\", \"redvalues\"]=5\n",
    "IUCN.loc[IUCN[\"redlistCategory\"]==\"Extinct\", \"redvalues\"]=6"
   ]
  },
  {
   "cell_type": "code",
   "execution_count": 63,
   "id": "7f2bf0b2-ddd5-45d5-8f5b-3f6535e4076b",
   "metadata": {},
   "outputs": [],
   "source": [
    "#COMBINING IUCN and Amniote data files based on common scientific name\n",
    "combined_data = pd.merge(\n",
    "    left=amniote_file,\n",
    "    right=IUCN,\n",
    "    left_on=\"scientific name\",\n",
    "    right_on=\"scientificName\"\n",
    ")"
   ]
  },
  {
   "cell_type": "code",
   "execution_count": 14,
   "id": "1c2af480-0dbf-41a2-b6a6-5914b8a74503",
   "metadata": {},
   "outputs": [],
   "source": [
    "#getting average risk per litter bracket. litter brackets are divided in groups of 5.\n",
    "litter_size_per_year = combined_data[\"litter_or_clutch_size_n\"]*combined_data[\"litters_or_clutches_per_y\"]\n",
    "litter_size_1 = litter_size_per_year<5\n",
    "extinction_risk_1 = combined_data[litter_size_1]\n",
    "average_risk_1 = extinction_risk_1[\"redvalues\"].mean()\n",
    "\n",
    "litter_size_2_1 = litter_size_per_year<10 \n",
    "litter_size_2_2 = litter_size_per_year >=5\n",
    "filter2 = litter_size_2_1 & litter_size_2_2\n",
    "extinction_risk_2 = combined_data[filter2]\n",
    "average_risk_2 = extinction_risk_2[\"redvalues\"].mean()\n",
    "\n",
    "litter_size_3_1 = litter_size_per_year<15 \n",
    "litter_size_3_2 = litter_size_per_year >=10\n",
    "filter3 = litter_size_3_1 & litter_size_3_2\n",
    "extinction_risk_3 = combined_data[filter3]\n",
    "average_risk_3 = extinction_risk_3[\"redvalues\"].mean()\n",
    "\n",
    "litter_size_4_1 = litter_size_per_year<20 \n",
    "litter_size_4_2 = litter_size_per_year >=15\n",
    "filter4 = litter_size_4_1 & litter_size_4_2\n",
    "extinction_risk_4 = combined_data[filter4]\n",
    "average_risk_4 = extinction_risk_4[\"redvalues\"].mean()\n",
    "\n",
    "litter_size_5_1 = litter_size_per_year<25 \n",
    "litter_size_5_2 = litter_size_per_year >=20\n",
    "filter5 = litter_size_5_1 & litter_size_5_2\n",
    "extinction_risk_5 = combined_data[filter5]\n",
    "average_risk_5 = extinction_risk_5[\"redvalues\"].mean()\n",
    "\n",
    "\n",
    "\n"
   ]
  },
  {
   "cell_type": "code",
   "execution_count": 16,
   "id": "69d8c3d7-0e22-4210-8570-cfb3b68eb502",
   "metadata": {},
   "outputs": [
    {
     "name": "stdout",
     "output_type": "stream",
     "text": [
      "average risk for litter size<5 = 0.7936925098554534\n",
      "average risk for 5<litter size<10 = 0.3352272727272727\n",
      "average risk for 10<litter size<15 = 0.4170403587443946\n",
      "average risk for 15<litter size<20 = 0.4460093896713615\n",
      "average risk for 20<litter size<25 = 0.44776119402985076\n"
     ]
    }
   ],
   "source": [
    "print(\"average risk for litter size<5 = \"+ str(average_risk_1))\n",
    "print(\"average risk for 5<litter size<10 = \"+ str(average_risk_2))\n",
    "print(\"average risk for 10<litter size<15 = \"+ str(average_risk_3))\n",
    "print(\"average risk for 15<litter size<20 = \"+ str(average_risk_4))\n",
    "print(\"average risk for 20<litter size<25 = \"+ str(average_risk_5))\n"
   ]
  },
  {
   "cell_type": "code",
   "execution_count": null,
   "id": "7ac69453-1fc0-4888-8cd0-450698a40b3b",
   "metadata": {},
   "outputs": [],
   "source": []
  }
 ],
 "metadata": {
  "kernelspec": {
   "display_name": "Python 3 (ipykernel)",
   "language": "python",
   "name": "python3"
  },
  "language_info": {
   "codemirror_mode": {
    "name": "ipython",
    "version": 3
   },
   "file_extension": ".py",
   "mimetype": "text/x-python",
   "name": "python",
   "nbconvert_exporter": "python",
   "pygments_lexer": "ipython3",
   "version": "3.11.6"
  }
 },
 "nbformat": 4,
 "nbformat_minor": 5
}
